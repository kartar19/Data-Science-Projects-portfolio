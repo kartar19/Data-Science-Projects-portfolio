{
  "nbformat": 4,
  "nbformat_minor": 0,
  "metadata": {
    "colab": {
      "name": "Time Series Analysis in Python.ipynb",
      "provenance": [],
      "collapsed_sections": [],
      "authorship_tag": "ABX9TyPCLQgtP01etwK9GfhDubUF",
      "include_colab_link": true
    },
    "kernelspec": {
      "name": "python3",
      "display_name": "Python 3"
    }
  },
  "cells": [
    {
      "cell_type": "markdown",
      "metadata": {
        "id": "view-in-github",
        "colab_type": "text"
      },
      "source": [
        "<a href=\"https://colab.research.google.com/github/kartar19/IBM-CAPSTONE-PROJECT-/blob/master/Time_Series_Analysis_in_Python.ipynb\" target=\"_parent\"><img src=\"https://colab.research.google.com/assets/colab-badge.svg\" alt=\"Open In Colab\"/></a>"
      ]
    },
    {
      "cell_type": "markdown",
      "metadata": {
        "id": "1EZVsJ77a2T6"
      },
      "source": [
        "##Time Series Analysis in Python - learning from Anatyics Vidya\n",
        "Loading time series dataset correctly in Pandas\n",
        "Indexing in Time-Series Data\n",
        "Time-Resampling using Pandas\n",
        "Rolling Time Series\n",
        "Plotting Time-series Data using Pandas"
      ]
    },
    {
      "cell_type": "markdown",
      "metadata": {
        "id": "H15K6yEYbMEl"
      },
      "source": [
        "Data location\n",
        "https://fred.stlouisfed.org/series/UMTMVS\n",
        "\n"
      ]
    },
    {
      "cell_type": "code",
      "metadata": {
        "id": "qSYqEcyFcpDk",
        "outputId": "77efb867-7608-4094-cf78-e413fb83eaa5",
        "colab": {
          "base_uri": "https://localhost:8080/",
          "height": 34
        }
      },
      "source": [
        "from google.colab import drive\n",
        "drive.mount('/content/drive')\n"
      ],
      "execution_count": 2,
      "outputs": [
        {
          "output_type": "stream",
          "text": [
            "Mounted at /content/drive\n"
          ],
          "name": "stdout"
        }
      ]
    },
    {
      "cell_type": "code",
      "metadata": {
        "id": "Lritb-NMbFup",
        "outputId": "1ca1f75d-6508-41f3-faa0-a1489b8779dd",
        "colab": {
          "base_uri": "https://localhost:8080/",
          "height": 206
        }
      },
      "source": [
        "#Loading data in Pandas\n",
        "import pandas as pd\n",
        "df = pd.read_csv('/content/drive/My Drive/Colab Notebooks/UMTMVS.csv')\n",
        "df.head()"
      ],
      "execution_count": 3,
      "outputs": [
        {
          "output_type": "execute_result",
          "data": {
            "text/html": [
              "<div>\n",
              "<style scoped>\n",
              "    .dataframe tbody tr th:only-of-type {\n",
              "        vertical-align: middle;\n",
              "    }\n",
              "\n",
              "    .dataframe tbody tr th {\n",
              "        vertical-align: top;\n",
              "    }\n",
              "\n",
              "    .dataframe thead th {\n",
              "        text-align: right;\n",
              "    }\n",
              "</style>\n",
              "<table border=\"1\" class=\"dataframe\">\n",
              "  <thead>\n",
              "    <tr style=\"text-align: right;\">\n",
              "      <th></th>\n",
              "      <th>DATE</th>\n",
              "      <th>UMTMVS</th>\n",
              "    </tr>\n",
              "  </thead>\n",
              "  <tbody>\n",
              "    <tr>\n",
              "      <th>0</th>\n",
              "      <td>1992-01-01</td>\n",
              "      <td>209438.0</td>\n",
              "    </tr>\n",
              "    <tr>\n",
              "      <th>1</th>\n",
              "      <td>1992-02-01</td>\n",
              "      <td>232679.0</td>\n",
              "    </tr>\n",
              "    <tr>\n",
              "      <th>2</th>\n",
              "      <td>1992-03-01</td>\n",
              "      <td>249673.0</td>\n",
              "    </tr>\n",
              "    <tr>\n",
              "      <th>3</th>\n",
              "      <td>1992-04-01</td>\n",
              "      <td>239666.0</td>\n",
              "    </tr>\n",
              "    <tr>\n",
              "      <th>4</th>\n",
              "      <td>1992-05-01</td>\n",
              "      <td>243231.0</td>\n",
              "    </tr>\n",
              "  </tbody>\n",
              "</table>\n",
              "</div>"
            ],
            "text/plain": [
              "         DATE    UMTMVS\n",
              "0  1992-01-01  209438.0\n",
              "1  1992-02-01  232679.0\n",
              "2  1992-03-01  249673.0\n",
              "3  1992-04-01  239666.0\n",
              "4  1992-05-01  243231.0"
            ]
          },
          "metadata": {
            "tags": []
          },
          "execution_count": 3
        }
      ]
    },
    {
      "cell_type": "code",
      "metadata": {
        "id": "wFEQjATTdEte",
        "outputId": "639fcc55-5816-4cd4-ee88-f5869d5c79b2",
        "colab": {
          "base_uri": "https://localhost:8080/",
          "height": 238
        }
      },
      "source": [
        "#Since we are working on time series, so \"DATE\" column has to be the index. Changing the index\n",
        "df = pd.read_csv('/content/drive/My Drive/Colab Notebooks/UMTMVS.csv', index_col='DATE')\n",
        "df.head()"
      ],
      "execution_count": 4,
      "outputs": [
        {
          "output_type": "execute_result",
          "data": {
            "text/html": [
              "<div>\n",
              "<style scoped>\n",
              "    .dataframe tbody tr th:only-of-type {\n",
              "        vertical-align: middle;\n",
              "    }\n",
              "\n",
              "    .dataframe tbody tr th {\n",
              "        vertical-align: top;\n",
              "    }\n",
              "\n",
              "    .dataframe thead th {\n",
              "        text-align: right;\n",
              "    }\n",
              "</style>\n",
              "<table border=\"1\" class=\"dataframe\">\n",
              "  <thead>\n",
              "    <tr style=\"text-align: right;\">\n",
              "      <th></th>\n",
              "      <th>UMTMVS</th>\n",
              "    </tr>\n",
              "    <tr>\n",
              "      <th>DATE</th>\n",
              "      <th></th>\n",
              "    </tr>\n",
              "  </thead>\n",
              "  <tbody>\n",
              "    <tr>\n",
              "      <th>1992-01-01</th>\n",
              "      <td>209438.0</td>\n",
              "    </tr>\n",
              "    <tr>\n",
              "      <th>1992-02-01</th>\n",
              "      <td>232679.0</td>\n",
              "    </tr>\n",
              "    <tr>\n",
              "      <th>1992-03-01</th>\n",
              "      <td>249673.0</td>\n",
              "    </tr>\n",
              "    <tr>\n",
              "      <th>1992-04-01</th>\n",
              "      <td>239666.0</td>\n",
              "    </tr>\n",
              "    <tr>\n",
              "      <th>1992-05-01</th>\n",
              "      <td>243231.0</td>\n",
              "    </tr>\n",
              "  </tbody>\n",
              "</table>\n",
              "</div>"
            ],
            "text/plain": [
              "              UMTMVS\n",
              "DATE                \n",
              "1992-01-01  209438.0\n",
              "1992-02-01  232679.0\n",
              "1992-03-01  249673.0\n",
              "1992-04-01  239666.0\n",
              "1992-05-01  243231.0"
            ]
          },
          "metadata": {
            "tags": []
          },
          "execution_count": 4
        }
      ]
    },
    {
      "cell_type": "code",
      "metadata": {
        "id": "SkkJER8iefYu",
        "outputId": "7066d35e-0b88-48c7-c117-ff7c4d454d15",
        "colab": {
          "base_uri": "https://localhost:8080/",
          "height": 121
        }
      },
      "source": [
        "# Though the 'DATE' columns i made as index, but check the data type  of all the columsn and specifically fo DATE to check if tihs is correct data type \n",
        "#\\n and if not then change it\n",
        "df.index"
      ],
      "execution_count": 5,
      "outputs": [
        {
          "output_type": "execute_result",
          "data": {
            "text/plain": [
              "Index(['1992-01-01', '1992-02-01', '1992-03-01', '1992-04-01', '1992-05-01',\n",
              "       '1992-06-01', '1992-07-01', '1992-08-01', '1992-09-01', '1992-10-01',\n",
              "       ...\n",
              "       '2019-11-01', '2019-12-01', '2020-01-01', '2020-02-01', '2020-03-01',\n",
              "       '2020-04-01', '2020-05-01', '2020-06-01', '2020-07-01', '2020-08-01'],\n",
              "      dtype='object', name='DATE', length=344)"
            ]
          },
          "metadata": {
            "tags": []
          },
          "execution_count": 5
        }
      ]
    },
    {
      "cell_type": "code",
      "metadata": {
        "id": "dqwT0ZvLfjmo",
        "outputId": "72b33a8d-d176-465e-a10f-c1f4e0dffe75",
        "colab": {
          "base_uri": "https://localhost:8080/",
          "height": 156
        }
      },
      "source": [
        "# since the 'DATE' type is an object, so this needs to be converted to date time type.\n",
        "\n",
        "df.index = pd.to_datetime(df.index)\n",
        "df.index"
      ],
      "execution_count": 6,
      "outputs": [
        {
          "output_type": "execute_result",
          "data": {
            "text/plain": [
              "DatetimeIndex(['1992-01-01', '1992-02-01', '1992-03-01', '1992-04-01',\n",
              "               '1992-05-01', '1992-06-01', '1992-07-01', '1992-08-01',\n",
              "               '1992-09-01', '1992-10-01',\n",
              "               ...\n",
              "               '2019-11-01', '2019-12-01', '2020-01-01', '2020-02-01',\n",
              "               '2020-03-01', '2020-04-01', '2020-05-01', '2020-06-01',\n",
              "               '2020-07-01', '2020-08-01'],\n",
              "              dtype='datetime64[ns]', name='DATE', length=344, freq=None)"
            ]
          },
          "metadata": {
            "tags": []
          },
          "execution_count": 6
        }
      ]
    },
    {
      "cell_type": "code",
      "metadata": {
        "id": "-pZXABgzfJSq",
        "outputId": "24369cf8-4e68-47e9-b175-0b28c9ac9171",
        "colab": {
          "base_uri": "https://localhost:8080/",
          "height": 52
        }
      },
      "source": [
        "df.isnull().count()"
      ],
      "execution_count": 7,
      "outputs": [
        {
          "output_type": "execute_result",
          "data": {
            "text/plain": [
              "UMTMVS    344\n",
              "dtype: int64"
            ]
          },
          "metadata": {
            "tags": []
          },
          "execution_count": 7
        }
      ]
    },
    {
      "cell_type": "code",
      "metadata": {
        "id": "sW1J1CLTfWMd",
        "outputId": "386fef26-20b6-4245-d42c-a394d0df42f1",
        "colab": {
          "base_uri": "https://localhost:8080/",
          "height": 238
        }
      },
      "source": [
        "# Reloading the data now as \"DATE\" type is now date time.\n",
        "df=pd.read_csv('/content/drive/My Drive/Colab Notebooks/UMTMVS.csv', index_col= 'DATE', parse_dates= True)\n",
        "df.head()"
      ],
      "execution_count": 8,
      "outputs": [
        {
          "output_type": "execute_result",
          "data": {
            "text/html": [
              "<div>\n",
              "<style scoped>\n",
              "    .dataframe tbody tr th:only-of-type {\n",
              "        vertical-align: middle;\n",
              "    }\n",
              "\n",
              "    .dataframe tbody tr th {\n",
              "        vertical-align: top;\n",
              "    }\n",
              "\n",
              "    .dataframe thead th {\n",
              "        text-align: right;\n",
              "    }\n",
              "</style>\n",
              "<table border=\"1\" class=\"dataframe\">\n",
              "  <thead>\n",
              "    <tr style=\"text-align: right;\">\n",
              "      <th></th>\n",
              "      <th>UMTMVS</th>\n",
              "    </tr>\n",
              "    <tr>\n",
              "      <th>DATE</th>\n",
              "      <th></th>\n",
              "    </tr>\n",
              "  </thead>\n",
              "  <tbody>\n",
              "    <tr>\n",
              "      <th>1992-01-01</th>\n",
              "      <td>209438.0</td>\n",
              "    </tr>\n",
              "    <tr>\n",
              "      <th>1992-02-01</th>\n",
              "      <td>232679.0</td>\n",
              "    </tr>\n",
              "    <tr>\n",
              "      <th>1992-03-01</th>\n",
              "      <td>249673.0</td>\n",
              "    </tr>\n",
              "    <tr>\n",
              "      <th>1992-04-01</th>\n",
              "      <td>239666.0</td>\n",
              "    </tr>\n",
              "    <tr>\n",
              "      <th>1992-05-01</th>\n",
              "      <td>243231.0</td>\n",
              "    </tr>\n",
              "  </tbody>\n",
              "</table>\n",
              "</div>"
            ],
            "text/plain": [
              "              UMTMVS\n",
              "DATE                \n",
              "1992-01-01  209438.0\n",
              "1992-02-01  232679.0\n",
              "1992-03-01  249673.0\n",
              "1992-04-01  239666.0\n",
              "1992-05-01  243231.0"
            ]
          },
          "metadata": {
            "tags": []
          },
          "execution_count": 8
        }
      ]
    },
    {
      "cell_type": "code",
      "metadata": {
        "id": "omO88E1xgTDC",
        "outputId": "80b69d75-0a67-4d6e-94b4-e88d77ffc071",
        "colab": {
          "base_uri": "https://localhost:8080/",
          "height": 156
        }
      },
      "source": [
        "#checking index type as DATE.\n",
        "df.index"
      ],
      "execution_count": 9,
      "outputs": [
        {
          "output_type": "execute_result",
          "data": {
            "text/plain": [
              "DatetimeIndex(['1992-01-01', '1992-02-01', '1992-03-01', '1992-04-01',\n",
              "               '1992-05-01', '1992-06-01', '1992-07-01', '1992-08-01',\n",
              "               '1992-09-01', '1992-10-01',\n",
              "               ...\n",
              "               '2019-11-01', '2019-12-01', '2020-01-01', '2020-02-01',\n",
              "               '2020-03-01', '2020-04-01', '2020-05-01', '2020-06-01',\n",
              "               '2020-07-01', '2020-08-01'],\n",
              "              dtype='datetime64[ns]', name='DATE', length=344, freq=None)"
            ]
          },
          "metadata": {
            "tags": []
          },
          "execution_count": 9
        }
      ]
    },
    {
      "cell_type": "code",
      "metadata": {
        "id": "IgqiiJ_CfIDM",
        "outputId": "9d7d1a4c-cdbb-402b-fa49-7a38ebfa3f02",
        "colab": {
          "base_uri": "https://localhost:8080/",
          "height": 455
        }
      },
      "source": [
        "#Indexing in timeseries data:\n",
        "# Looking for data between a particular month or days\n",
        "df.loc['1992-01-01':'2001-01-01']"
      ],
      "execution_count": 10,
      "outputs": [
        {
          "output_type": "execute_result",
          "data": {
            "text/html": [
              "<div>\n",
              "<style scoped>\n",
              "    .dataframe tbody tr th:only-of-type {\n",
              "        vertical-align: middle;\n",
              "    }\n",
              "\n",
              "    .dataframe tbody tr th {\n",
              "        vertical-align: top;\n",
              "    }\n",
              "\n",
              "    .dataframe thead th {\n",
              "        text-align: right;\n",
              "    }\n",
              "</style>\n",
              "<table border=\"1\" class=\"dataframe\">\n",
              "  <thead>\n",
              "    <tr style=\"text-align: right;\">\n",
              "      <th></th>\n",
              "      <th>UMTMVS</th>\n",
              "    </tr>\n",
              "    <tr>\n",
              "      <th>DATE</th>\n",
              "      <th></th>\n",
              "    </tr>\n",
              "  </thead>\n",
              "  <tbody>\n",
              "    <tr>\n",
              "      <th>1992-01-01</th>\n",
              "      <td>209438.0</td>\n",
              "    </tr>\n",
              "    <tr>\n",
              "      <th>1992-02-01</th>\n",
              "      <td>232679.0</td>\n",
              "    </tr>\n",
              "    <tr>\n",
              "      <th>1992-03-01</th>\n",
              "      <td>249673.0</td>\n",
              "    </tr>\n",
              "    <tr>\n",
              "      <th>1992-04-01</th>\n",
              "      <td>239666.0</td>\n",
              "    </tr>\n",
              "    <tr>\n",
              "      <th>1992-05-01</th>\n",
              "      <td>243231.0</td>\n",
              "    </tr>\n",
              "    <tr>\n",
              "      <th>...</th>\n",
              "      <td>...</td>\n",
              "    </tr>\n",
              "    <tr>\n",
              "      <th>2000-09-01</th>\n",
              "      <td>377093.0</td>\n",
              "    </tr>\n",
              "    <tr>\n",
              "      <th>2000-10-01</th>\n",
              "      <td>356771.0</td>\n",
              "    </tr>\n",
              "    <tr>\n",
              "      <th>2000-11-01</th>\n",
              "      <td>344370.0</td>\n",
              "    </tr>\n",
              "    <tr>\n",
              "      <th>2000-12-01</th>\n",
              "      <td>344369.0</td>\n",
              "    </tr>\n",
              "    <tr>\n",
              "      <th>2001-01-01</th>\n",
              "      <td>313393.0</td>\n",
              "    </tr>\n",
              "  </tbody>\n",
              "</table>\n",
              "<p>109 rows × 1 columns</p>\n",
              "</div>"
            ],
            "text/plain": [
              "              UMTMVS\n",
              "DATE                \n",
              "1992-01-01  209438.0\n",
              "1992-02-01  232679.0\n",
              "1992-03-01  249673.0\n",
              "1992-04-01  239666.0\n",
              "1992-05-01  243231.0\n",
              "...              ...\n",
              "2000-09-01  377093.0\n",
              "2000-10-01  356771.0\n",
              "2000-11-01  344370.0\n",
              "2000-12-01  344369.0\n",
              "2001-01-01  313393.0\n",
              "\n",
              "[109 rows x 1 columns]"
            ]
          },
          "metadata": {
            "tags": []
          },
          "execution_count": 10
        }
      ]
    },
    {
      "cell_type": "code",
      "metadata": {
        "id": "3VIyjGOs_sq_",
        "outputId": "40dba54a-a60a-4c00-f485-f401ffe4d74f",
        "colab": {
          "base_uri": "https://localhost:8080/",
          "height": 394
        }
      },
      "source": [
        "# Indexing dara between a paricular period with step increase. here retrieving index after every 12 months\n",
        "df.loc['1992-01-01': '2001-01-01': 12]"
      ],
      "execution_count": 12,
      "outputs": [
        {
          "output_type": "execute_result",
          "data": {
            "text/html": [
              "<div>\n",
              "<style scoped>\n",
              "    .dataframe tbody tr th:only-of-type {\n",
              "        vertical-align: middle;\n",
              "    }\n",
              "\n",
              "    .dataframe tbody tr th {\n",
              "        vertical-align: top;\n",
              "    }\n",
              "\n",
              "    .dataframe thead th {\n",
              "        text-align: right;\n",
              "    }\n",
              "</style>\n",
              "<table border=\"1\" class=\"dataframe\">\n",
              "  <thead>\n",
              "    <tr style=\"text-align: right;\">\n",
              "      <th></th>\n",
              "      <th>UMTMVS</th>\n",
              "    </tr>\n",
              "    <tr>\n",
              "      <th>DATE</th>\n",
              "      <th></th>\n",
              "    </tr>\n",
              "  </thead>\n",
              "  <tbody>\n",
              "    <tr>\n",
              "      <th>1992-01-01</th>\n",
              "      <td>209438.0</td>\n",
              "    </tr>\n",
              "    <tr>\n",
              "      <th>1993-01-01</th>\n",
              "      <td>223258.0</td>\n",
              "    </tr>\n",
              "    <tr>\n",
              "      <th>1994-01-01</th>\n",
              "      <td>234097.0</td>\n",
              "    </tr>\n",
              "    <tr>\n",
              "      <th>1995-01-01</th>\n",
              "      <td>260175.0</td>\n",
              "    </tr>\n",
              "    <tr>\n",
              "      <th>1996-01-01</th>\n",
              "      <td>263041.0</td>\n",
              "    </tr>\n",
              "    <tr>\n",
              "      <th>1997-01-01</th>\n",
              "      <td>280870.0</td>\n",
              "    </tr>\n",
              "    <tr>\n",
              "      <th>1998-01-01</th>\n",
              "      <td>290004.0</td>\n",
              "    </tr>\n",
              "    <tr>\n",
              "      <th>1999-01-01</th>\n",
              "      <td>293222.0</td>\n",
              "    </tr>\n",
              "    <tr>\n",
              "      <th>2000-01-01</th>\n",
              "      <td>314656.0</td>\n",
              "    </tr>\n",
              "    <tr>\n",
              "      <th>2001-01-01</th>\n",
              "      <td>313393.0</td>\n",
              "    </tr>\n",
              "  </tbody>\n",
              "</table>\n",
              "</div>"
            ],
            "text/plain": [
              "              UMTMVS\n",
              "DATE                \n",
              "1992-01-01  209438.0\n",
              "1993-01-01  223258.0\n",
              "1994-01-01  234097.0\n",
              "1995-01-01  260175.0\n",
              "1996-01-01  263041.0\n",
              "1997-01-01  280870.0\n",
              "1998-01-01  290004.0\n",
              "1999-01-01  293222.0\n",
              "2000-01-01  314656.0\n",
              "2001-01-01  313393.0"
            ]
          },
          "metadata": {
            "tags": []
          },
          "execution_count": 12
        }
      ]
    },
    {
      "cell_type": "markdown",
      "metadata": {
        "id": "KKjfpmE7AsUK"
      },
      "source": [
        "## Resampling or Group by index basis either month end, year end, month start, year start etc:\n",
        "Think of resampling as groupby() where we group by based on any column and then apply an aggregate function to check our results. Whereas in the Time-Series index, we can resample based on any rule in which we specify whether we want to resample based on “Years” or “Months” or “Days or anything else.\n",
        "\n",
        "Some important rules for which we resample our time series index are:\n",
        "\n",
        "M = Month End\n",
        "A = Year-End\n",
        "MS = Month Start\n",
        "AS = Year Start"
      ]
    },
    {
      "cell_type": "code",
      "metadata": {
        "id": "Ey083lRxefSQ",
        "outputId": "14863b16-61d1-407c-a59b-09372fb48bd6",
        "colab": {
          "base_uri": "https://localhost:8080/",
          "height": 238
        }
      },
      "source": [
        "# Resampling with start of year and taking mean of all the data for the year.\n",
        "df.resample(rule = 'AS').mean().head()"
      ],
      "execution_count": 14,
      "outputs": [
        {
          "output_type": "execute_result",
          "data": {
            "text/html": [
              "<div>\n",
              "<style scoped>\n",
              "    .dataframe tbody tr th:only-of-type {\n",
              "        vertical-align: middle;\n",
              "    }\n",
              "\n",
              "    .dataframe tbody tr th {\n",
              "        vertical-align: top;\n",
              "    }\n",
              "\n",
              "    .dataframe thead th {\n",
              "        text-align: right;\n",
              "    }\n",
              "</style>\n",
              "<table border=\"1\" class=\"dataframe\">\n",
              "  <thead>\n",
              "    <tr style=\"text-align: right;\">\n",
              "      <th></th>\n",
              "      <th>UMTMVS</th>\n",
              "    </tr>\n",
              "    <tr>\n",
              "      <th>DATE</th>\n",
              "      <th></th>\n",
              "    </tr>\n",
              "  </thead>\n",
              "  <tbody>\n",
              "    <tr>\n",
              "      <th>1992-01-01</th>\n",
              "      <td>242002.000000</td>\n",
              "    </tr>\n",
              "    <tr>\n",
              "      <th>1993-01-01</th>\n",
              "      <td>251708.083333</td>\n",
              "    </tr>\n",
              "    <tr>\n",
              "      <th>1994-01-01</th>\n",
              "      <td>269842.666667</td>\n",
              "    </tr>\n",
              "    <tr>\n",
              "      <th>1995-01-01</th>\n",
              "      <td>289973.083333</td>\n",
              "    </tr>\n",
              "    <tr>\n",
              "      <th>1996-01-01</th>\n",
              "      <td>299765.666667</td>\n",
              "    </tr>\n",
              "  </tbody>\n",
              "</table>\n",
              "</div>"
            ],
            "text/plain": [
              "                   UMTMVS\n",
              "DATE                     \n",
              "1992-01-01  242002.000000\n",
              "1993-01-01  251708.083333\n",
              "1994-01-01  269842.666667\n",
              "1995-01-01  289973.083333\n",
              "1996-01-01  299765.666667"
            ]
          },
          "metadata": {
            "tags": []
          },
          "execution_count": 14
        }
      ]
    },
    {
      "cell_type": "code",
      "metadata": {
        "id": "Eauh0VOrefOA",
        "outputId": "a031ee12-5f69-429b-b498-3d65061619f9",
        "colab": {
          "base_uri": "https://localhost:8080/",
          "height": 238
        }
      },
      "source": [
        "# Resampling with Month End and taking mean of all the data for the year.\n",
        "df.resample(rule = 'M').mean().head()"
      ],
      "execution_count": 16,
      "outputs": [
        {
          "output_type": "execute_result",
          "data": {
            "text/html": [
              "<div>\n",
              "<style scoped>\n",
              "    .dataframe tbody tr th:only-of-type {\n",
              "        vertical-align: middle;\n",
              "    }\n",
              "\n",
              "    .dataframe tbody tr th {\n",
              "        vertical-align: top;\n",
              "    }\n",
              "\n",
              "    .dataframe thead th {\n",
              "        text-align: right;\n",
              "    }\n",
              "</style>\n",
              "<table border=\"1\" class=\"dataframe\">\n",
              "  <thead>\n",
              "    <tr style=\"text-align: right;\">\n",
              "      <th></th>\n",
              "      <th>UMTMVS</th>\n",
              "    </tr>\n",
              "    <tr>\n",
              "      <th>DATE</th>\n",
              "      <th></th>\n",
              "    </tr>\n",
              "  </thead>\n",
              "  <tbody>\n",
              "    <tr>\n",
              "      <th>1992-01-31</th>\n",
              "      <td>209438.0</td>\n",
              "    </tr>\n",
              "    <tr>\n",
              "      <th>1992-02-29</th>\n",
              "      <td>232679.0</td>\n",
              "    </tr>\n",
              "    <tr>\n",
              "      <th>1992-03-31</th>\n",
              "      <td>249673.0</td>\n",
              "    </tr>\n",
              "    <tr>\n",
              "      <th>1992-04-30</th>\n",
              "      <td>239666.0</td>\n",
              "    </tr>\n",
              "    <tr>\n",
              "      <th>1992-05-31</th>\n",
              "      <td>243231.0</td>\n",
              "    </tr>\n",
              "  </tbody>\n",
              "</table>\n",
              "</div>"
            ],
            "text/plain": [
              "              UMTMVS\n",
              "DATE                \n",
              "1992-01-31  209438.0\n",
              "1992-02-29  232679.0\n",
              "1992-03-31  249673.0\n",
              "1992-04-30  239666.0\n",
              "1992-05-31  243231.0"
            ]
          },
          "metadata": {
            "tags": []
          },
          "execution_count": 16
        }
      ]
    },
    {
      "cell_type": "markdown",
      "metadata": {
        "id": "9zyQeAEzB-UJ"
      },
      "source": [
        "##Rolling Time Series\n",
        " \n",
        "\n",
        "Rolling is also similar to Time Resampling, but in Rolling, we take a window of any size and perform any function on it. In simple words, we can say that a rolling window of size k means k consecutive values."
      ]
    },
    {
      "cell_type": "code",
      "metadata": {
        "id": "DJCFzklqCB88",
        "outputId": "4a323a00-1cc6-45a8-cfe2-4fa2ab4c2d13",
        "colab": {
          "base_uri": "https://localhost:8080/",
          "height": 708
        }
      },
      "source": [
        "df.rolling(window = 10).mean().head(20)"
      ],
      "execution_count": 18,
      "outputs": [
        {
          "output_type": "execute_result",
          "data": {
            "text/html": [
              "<div>\n",
              "<style scoped>\n",
              "    .dataframe tbody tr th:only-of-type {\n",
              "        vertical-align: middle;\n",
              "    }\n",
              "\n",
              "    .dataframe tbody tr th {\n",
              "        vertical-align: top;\n",
              "    }\n",
              "\n",
              "    .dataframe thead th {\n",
              "        text-align: right;\n",
              "    }\n",
              "</style>\n",
              "<table border=\"1\" class=\"dataframe\">\n",
              "  <thead>\n",
              "    <tr style=\"text-align: right;\">\n",
              "      <th></th>\n",
              "      <th>UMTMVS</th>\n",
              "    </tr>\n",
              "    <tr>\n",
              "      <th>DATE</th>\n",
              "      <th></th>\n",
              "    </tr>\n",
              "  </thead>\n",
              "  <tbody>\n",
              "    <tr>\n",
              "      <th>1992-01-01</th>\n",
              "      <td>NaN</td>\n",
              "    </tr>\n",
              "    <tr>\n",
              "      <th>1992-02-01</th>\n",
              "      <td>NaN</td>\n",
              "    </tr>\n",
              "    <tr>\n",
              "      <th>1992-03-01</th>\n",
              "      <td>NaN</td>\n",
              "    </tr>\n",
              "    <tr>\n",
              "      <th>1992-04-01</th>\n",
              "      <td>NaN</td>\n",
              "    </tr>\n",
              "    <tr>\n",
              "      <th>1992-05-01</th>\n",
              "      <td>NaN</td>\n",
              "    </tr>\n",
              "    <tr>\n",
              "      <th>1992-06-01</th>\n",
              "      <td>NaN</td>\n",
              "    </tr>\n",
              "    <tr>\n",
              "      <th>1992-07-01</th>\n",
              "      <td>NaN</td>\n",
              "    </tr>\n",
              "    <tr>\n",
              "      <th>1992-08-01</th>\n",
              "      <td>NaN</td>\n",
              "    </tr>\n",
              "    <tr>\n",
              "      <th>1992-09-01</th>\n",
              "      <td>NaN</td>\n",
              "    </tr>\n",
              "    <tr>\n",
              "      <th>1992-10-01</th>\n",
              "      <td>241316.0</td>\n",
              "    </tr>\n",
              "    <tr>\n",
              "      <th>1992-11-01</th>\n",
              "      <td>244898.3</td>\n",
              "    </tr>\n",
              "    <tr>\n",
              "      <th>1992-12-01</th>\n",
              "      <td>246190.7</td>\n",
              "    </tr>\n",
              "    <tr>\n",
              "      <th>1993-01-01</th>\n",
              "      <td>243549.2</td>\n",
              "    </tr>\n",
              "    <tr>\n",
              "      <th>1993-02-01</th>\n",
              "      <td>244276.7</td>\n",
              "    </tr>\n",
              "    <tr>\n",
              "      <th>1993-03-01</th>\n",
              "      <td>246442.2</td>\n",
              "    </tr>\n",
              "    <tr>\n",
              "      <th>1993-04-01</th>\n",
              "      <td>245074.9</td>\n",
              "    </tr>\n",
              "    <tr>\n",
              "      <th>1993-05-01</th>\n",
              "      <td>247878.7</td>\n",
              "    </tr>\n",
              "    <tr>\n",
              "      <th>1993-06-01</th>\n",
              "      <td>250953.5</td>\n",
              "    </tr>\n",
              "    <tr>\n",
              "      <th>1993-07-01</th>\n",
              "      <td>247339.6</td>\n",
              "    </tr>\n",
              "    <tr>\n",
              "      <th>1993-08-01</th>\n",
              "      <td>247008.7</td>\n",
              "    </tr>\n",
              "  </tbody>\n",
              "</table>\n",
              "</div>"
            ],
            "text/plain": [
              "              UMTMVS\n",
              "DATE                \n",
              "1992-01-01       NaN\n",
              "1992-02-01       NaN\n",
              "1992-03-01       NaN\n",
              "1992-04-01       NaN\n",
              "1992-05-01       NaN\n",
              "1992-06-01       NaN\n",
              "1992-07-01       NaN\n",
              "1992-08-01       NaN\n",
              "1992-09-01       NaN\n",
              "1992-10-01  241316.0\n",
              "1992-11-01  244898.3\n",
              "1992-12-01  246190.7\n",
              "1993-01-01  243549.2\n",
              "1993-02-01  244276.7\n",
              "1993-03-01  246442.2\n",
              "1993-04-01  245074.9\n",
              "1993-05-01  247878.7\n",
              "1993-06-01  250953.5\n",
              "1993-07-01  247339.6\n",
              "1993-08-01  247008.7"
            ]
          },
          "metadata": {
            "tags": []
          },
          "execution_count": 18
        }
      ]
    },
    {
      "cell_type": "code",
      "metadata": {
        "id": "xYwoxTiRCLQu",
        "outputId": "6982f9b1-9745-4f44-d2dd-e5d902215dd3",
        "colab": {
          "base_uri": "https://localhost:8080/",
          "height": 394
        }
      },
      "source": [
        "# max number, first 10  after 30 rows of rolling.\n",
        "df.rolling(window =30).max()[31:].head(10)"
      ],
      "execution_count": 21,
      "outputs": [
        {
          "output_type": "execute_result",
          "data": {
            "text/html": [
              "<div>\n",
              "<style scoped>\n",
              "    .dataframe tbody tr th:only-of-type {\n",
              "        vertical-align: middle;\n",
              "    }\n",
              "\n",
              "    .dataframe tbody tr th {\n",
              "        vertical-align: top;\n",
              "    }\n",
              "\n",
              "    .dataframe thead th {\n",
              "        text-align: right;\n",
              "    }\n",
              "</style>\n",
              "<table border=\"1\" class=\"dataframe\">\n",
              "  <thead>\n",
              "    <tr style=\"text-align: right;\">\n",
              "      <th></th>\n",
              "      <th>UMTMVS</th>\n",
              "    </tr>\n",
              "    <tr>\n",
              "      <th>DATE</th>\n",
              "      <th></th>\n",
              "    </tr>\n",
              "  </thead>\n",
              "  <tbody>\n",
              "    <tr>\n",
              "      <th>1994-08-01</th>\n",
              "      <td>287336.0</td>\n",
              "    </tr>\n",
              "    <tr>\n",
              "      <th>1994-09-01</th>\n",
              "      <td>291357.0</td>\n",
              "    </tr>\n",
              "    <tr>\n",
              "      <th>1994-10-01</th>\n",
              "      <td>291357.0</td>\n",
              "    </tr>\n",
              "    <tr>\n",
              "      <th>1994-11-01</th>\n",
              "      <td>291357.0</td>\n",
              "    </tr>\n",
              "    <tr>\n",
              "      <th>1994-12-01</th>\n",
              "      <td>291357.0</td>\n",
              "    </tr>\n",
              "    <tr>\n",
              "      <th>1995-01-01</th>\n",
              "      <td>291357.0</td>\n",
              "    </tr>\n",
              "    <tr>\n",
              "      <th>1995-02-01</th>\n",
              "      <td>291357.0</td>\n",
              "    </tr>\n",
              "    <tr>\n",
              "      <th>1995-03-01</th>\n",
              "      <td>303201.0</td>\n",
              "    </tr>\n",
              "    <tr>\n",
              "      <th>1995-04-01</th>\n",
              "      <td>303201.0</td>\n",
              "    </tr>\n",
              "    <tr>\n",
              "      <th>1995-05-01</th>\n",
              "      <td>303201.0</td>\n",
              "    </tr>\n",
              "  </tbody>\n",
              "</table>\n",
              "</div>"
            ],
            "text/plain": [
              "              UMTMVS\n",
              "DATE                \n",
              "1994-08-01  287336.0\n",
              "1994-09-01  291357.0\n",
              "1994-10-01  291357.0\n",
              "1994-11-01  291357.0\n",
              "1994-12-01  291357.0\n",
              "1995-01-01  291357.0\n",
              "1995-02-01  291357.0\n",
              "1995-03-01  303201.0\n",
              "1995-04-01  303201.0\n",
              "1995-05-01  303201.0"
            ]
          },
          "metadata": {
            "tags": []
          },
          "execution_count": 21
        }
      ]
    },
    {
      "cell_type": "code",
      "metadata": {
        "id": "RmdH564yCJ29",
        "outputId": "85981155-45cf-4687-c997-7b9ba8127df7",
        "colab": {
          "base_uri": "https://localhost:8080/",
          "height": 296
        }
      },
      "source": [
        "#Plotting Time Series\n",
        "df.plot()"
      ],
      "execution_count": 22,
      "outputs": [
        {
          "output_type": "execute_result",
          "data": {
            "text/plain": [
              "<matplotlib.axes._subplots.AxesSubplot at 0x7fa93b7afb00>"
            ]
          },
          "metadata": {
            "tags": []
          },
          "execution_count": 22
        },
        {
          "output_type": "display_data",
          "data": {
            "image/png": "[encoded data removed]",
            "text/plain": [
              "<Figure size 432x288 with 1 Axes>"
            ]
          },
          "metadata": {
            "tags": [],
            "needs_background": "light"
          }
        }
      ]
    },
    {
      "cell_type": "code",
      "metadata": {
        "id": "XCr4CdK5Cw3B",
        "outputId": "38584d8b-6fc0-4524-a8c3-71e47b30e229",
        "colab": {
          "base_uri": "https://localhost:8080/",
          "height": 638
        }
      },
      "source": [
        "ax= df.plot(figsize=(15,10))\n",
        "ax.set(title='Value of Manufacturers Shipments', ylabel='Value')"
      ],
      "execution_count": 23,
      "outputs": [
        {
          "output_type": "execute_result",
          "data": {
            "text/plain": [
              "[Text(0, 0.5, 'Value'), Text(0.5, 1.0, 'Value of Manufacturers Shipments')]"
            ]
          },
          "metadata": {
            "tags": []
          },
          "execution_count": 23
        },
        {
          "output_type": "display_data",
          "data": {
            "image/png": "[encoded data removed]",
            "text/plain": [
              "<Figure size 1080x720 with 1 Axes>"
            ]
          },
          "metadata": {
            "tags": [],
            "needs_background": "light"
          }
        }
      ]
    },
    {
      "cell_type": "code",
      "metadata": {
        "id": "qyjKGVBIDGiJ",
        "outputId": "07630f5c-06c0-4efd-bd0f-c7799cdbb7e5",
        "colab": {
          "base_uri": "https://localhost:8080/",
          "height": 439
        }
      },
      "source": [
        "# plot with mean of starting value.\n",
        "ax = df.resample(rule='AS').mean().plot(figsize=(12,6))\n",
        "ax.set(title='Average of Manufacturers Shipments', ylabel='Value of Mean of Starting of Year')\n",
        "\n",
        " "
      ],
      "execution_count": 24,
      "outputs": [
        {
          "output_type": "execute_result",
          "data": {
            "text/plain": [
              "[Text(0, 0.5, 'Value of Mean of Starting of Year'),\n",
              " Text(0.5, 1.0, 'Average of Manufacturers Shipments')]"
            ]
          },
          "metadata": {
            "tags": []
          },
          "execution_count": 24
        },
        {
          "output_type": "display_data",
          "data": {
            "image/png": "[encoded data removed]",
            "text/plain": [
              "<Figure size 864x432 with 1 Axes>"
            ]
          },
          "metadata": {
            "tags": [],
            "needs_background": "light"
          }
        }
      ]
    },
    {
      "cell_type": "code",
      "metadata": {
        "id": "9e4yaWDIFIlx"
      },
      "source": [
        ""
      ],
      "execution_count": null,
      "outputs": []
    },
    {
      "cell_type": "code",
      "metadata": {
        "id": "Ili76EwoDHHg"
      },
      "source": [
        ""
      ],
      "execution_count": null,
      "outputs": []
    },
    {
      "cell_type": "code",
      "metadata": {
        "id": "ZrPphYWmDHMB"
      },
      "source": [
        ""
      ],
      "execution_count": null,
      "outputs": []
    }
  ]
}